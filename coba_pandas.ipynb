{
 "cells": [
  {
   "cell_type": "code",
   "execution_count": 1,
   "metadata": {},
   "outputs": [
    {
     "name": "stdout",
     "output_type": "stream",
     "text": [
      "    Barang  Jumlah (KG)  Status\n",
      "0    Beras            5    True\n",
      "1    Cabai            1    True\n",
      "2  Kentang           10    True\n"
     ]
    }
   ],
   "source": [
    "import pandas as pd\n",
    "\n",
    "data_contoh = [\n",
    "    [\"Beras\", 5, True],\n",
    "    [\"Cabai\", 1, True],\n",
    "    [\"Kentang\", 10, True]\n",
    "]\n",
    "\n",
    "df = pd.DataFrame(data_contoh, columns=[\"Barang\", \"Jumlah (KG)\", \"Status\"])\n",
    "\n",
    "\n",
    "print(df)\n",
    "\n",
    "\n"
   ]
  }
 ],
 "metadata": {
  "kernelspec": {
   "display_name": "Python 3",
   "language": "python",
   "name": "python3"
  },
  "language_info": {
   "codemirror_mode": {
    "name": "ipython",
    "version": 3
   },
   "file_extension": ".py",
   "mimetype": "text/x-python",
   "name": "python",
   "nbconvert_exporter": "python",
   "pygments_lexer": "ipython3",
   "version": "3.12.4"
  }
 },
 "nbformat": 4,
 "nbformat_minor": 2
}
